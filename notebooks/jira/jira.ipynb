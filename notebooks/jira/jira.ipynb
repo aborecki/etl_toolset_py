{
 "cells": [
  {
   "cell_type": "code",
   "execution_count": 2,
   "metadata": {},
   "outputs": [],
   "source": [
    "import pyetltools as t"
   ]
  },
  {
   "cell_type": "code",
   "execution_count": 4,
   "metadata": {},
   "outputs": [
    {
     "name": "stdout",
     "output_type": "stream",
     "text": [
      "Updating subtask417150:CLONE - 1. Init data from PROD \n",
      "-> new summary: 1. Init data from PROD\n",
      "Updating subtask417151:CLONE - 2. Prepare DDLs to create views for sources and lookups \n",
      "-> new summary: 2. Prepare DDLs to create views for sources and lookups\n",
      "Updating subtask417152:CLONE - 3. Delete from target tables most recent run result and open records for penultimate run \n",
      "-> new summary: 3. Delete from target tables most recent run result and open records for penultimate run\n",
      "Updating subtask417153:CLONE - 4. Update persistent values to be as before last run \n",
      "-> new summary: 4. Update persistent values to be as before last run\n",
      "Updating subtask417155:CLONE - 5. Delete from META.TDM_LOAD_LOG rows inserted with last WF run \n",
      "-> new summary: 5. Delete from META.TDM_LOAD_LOG rows inserted with last WF run\n",
      "Updating subtask417156:CLONE - 6. Run rename_DDL.sql on FTST2 \n",
      "-> new summary: 6. Run rename_DDL.sql on FTST2\n",
      "Updating subtask417157:CLONE - 7. Run workflow for all koersels \n",
      "-> new summary: 7. Run workflow for all koersels\n",
      "Updating subtask417158:CLONE - 8. Run Recon and check results \n",
      "-> new summary: 8. Run Recon and check results\n",
      "Updating subtask417159:CLONE - 9. Rollback DDL changes applied in 'Run rename_DDL.sql on FTST2' \n",
      "-> new summary: 9. Rollback DDL changes applied in 'Run rename_DDL.sql on FTST2'\n",
      "Updating subtask417160:CLONE - 10. Prepare test report file \n",
      "-> new summary: 10. Prepare test report file\n"
     ]
    }
   ],
   "source": [
    "# remove CLONE from subtasks dir\n",
    "\n",
    "task=\"BIFU-19746\"\n",
    "\n",
    "jira_context=t.context.JIRA;\n",
    "parent=jira_context.get_issue(task)\n",
    "\n",
    "for subissue in parent.get_sub_issues():\n",
    "    summary=subissue.get_summary()\n",
    "    new_summary=summary.replace(\"CLONE - \",\"\")\n",
    "    if summary != new_summary:\n",
    "        print(\"Updating subtask\"+str(subissue) + \" \\n-> new summary: \"+ new_summary)\n",
    "        subissue.set_summary(new_summary)\n",
    "        jira_context.update_issue(subissue)\n",
    "    "
   ]
  },
  {
   "cell_type": "code",
   "execution_count": null,
   "metadata": {},
   "outputs": [],
   "source": []
  },
  {
   "cell_type": "code",
   "execution_count": 9,
   "metadata": {},
   "outputs": [],
   "source": [
    "# remove CLONE from subtasks dir\n",
    "\n",
    "task=\"BIFU-15912\"\n",
    "jira_context=t.context.JIRA_TEST;\n",
    "parent=jira_context.get_issue(task)\n",
    "\n",
    "for subissue in parent.get_sub_issues():\n",
    "    summary=subissue.get_summary()\n",
    "    new_summary=summary.replace(\"CLONE - \",\"\")\n",
    "    if summary != new_summary:\n",
    "        print(\"Updating subtask\"+str(subissue) + \" \\n-> new summary: \"+ new_summary)\n",
    "        subissue.set_summary(new_summary)\n",
    "        print(subissue.content)\n",
    "        jira_context.update_issue(subissue)"
   ]
  },
  {
   "cell_type": "code",
   "execution_count": 6,
   "metadata": {},
   "outputs": [
    {
     "data": {
      "text/plain": [
       "<Response [204]>"
      ]
     },
     "execution_count": 6,
     "metadata": {},
     "output_type": "execute_result"
    }
   ],
   "source": []
  },
  {
   "cell_type": "code",
   "execution_count": null,
   "metadata": {},
   "outputs": [],
   "source": [
    "parent"
   ]
  },
  {
   "cell_type": "code",
   "execution_count": null,
   "metadata": {},
   "outputs": [],
   "source": []
  }
 ],
 "metadata": {
  "kernelspec": {
   "display_name": "Python 3",
   "language": "python",
   "name": "python3"
  },
  "language_info": {
   "codemirror_mode": {
    "name": "ipython",
    "version": 3
   },
   "file_extension": ".py",
   "mimetype": "text/x-python",
   "name": "python",
   "nbconvert_exporter": "python",
   "pygments_lexer": "ipython3",
   "version": "3.7.4"
  }
 },
 "nbformat": 4,
 "nbformat_minor": 4
}
