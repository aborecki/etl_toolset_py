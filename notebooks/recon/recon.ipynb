{
 "cells": [
  {
   "cell_type": "code",
   "execution_count": null,
   "metadata": {},
   "outputs": [],
   "source": [
    "\n",
    "\n"
   ]
  },
  {
   "cell_type": "code",
   "execution_count": null,
   "metadata": {},
   "outputs": [],
   "source": [
    "OPC_JOBS_TO_MONITOR=[\"FMDWI02_\\_NZ\",  # remember to add \"escape '\\' in sql 'like' conditions\n",
    "                     \"FMDWI02_\\_NZ\",\n",
    "                     \"FRAPX96_\\_NZ\",\n",
    "                     \"FLIKX01_\\_NZ\",\n",
    "                     \"FRAPX95_\\_NZ\",\n",
    "                     \"FRAPX94_\\_NZ\",\n",
    "                     \"FMDWI29_\\_NZ\",\n",
    "                     \"FKOF0940_NZ\"]\n",
    "\n",
    "date_range_condition=\"START_TIME >= '2019-11-01'\"\n",
    "#and START_TIME < '2020-01-10' \"\n",
    "                     \n",
    "ftst2_where_condition=\" OR \".join(map(lambda opc: f\"[OPC_JOBNAME] LIKE '{opc}' ESCAPE '\\\\'\" ,OPC_JOBS_TO_MONITOR))\n",
    "                     \n",
    "prod_where_condition=\" OR \".join(map(lambda opc: f\"[OPC_JOBNAME] LIKE '{opc}' ESCAPE '\\\\'\" ,\n",
    "                                     map(lambda opc: \"P\"+opc.replace(\"_NZ\",\"\")[1:-1]+\"%\", OPC_JOBS_TO_MONITOR)\n",
    "                                     )\n",
    "                                 )\n",
    "\n",
    "\n",
    "\n",
    "sql_text_ftst2=f\"select * from [D00000TD10_PWC_REP_FTST2].[dbo].[REP_WFLOW_RUN_INST]  WHERE {ftst2_where_condition} AND {date_range_condition}\"\n",
    "sql_text_prod=f\"select * from [D00000PD10_PWC_REP_PROD].[dbo].[REP_WFLOW_RUN_INST]  WHERE {prod_where_condition} AND {date_range_condition}\"\n",
    "\n",
    "print(sql_text_ftst2)\n",
    "DF_FTST2_REP_WFLOW_RUN_INST=t.context.DB_SQLFTST2_PC_REP.get_spark_dataframe(sql_text_ftst2)\n",
    "print(sql_text_prod)\n",
    "DF_PROD_REP_WFLOW_RUN_INST=t.context.DB_SQLPROD_PC_REP.get_spark_dataframe(sql_text_prod)\n",
    "\n",
    "DF_FTST2_REP_WFLOW_RUN_INST.registerTempTable(\"DF_FTST2_REP_WFLOW_RUN_INST\")\n",
    "DF_PROD_REP_WFLOW_RUN_INST.registerTempTable(\"DF_PROD_REP_WFLOW_RUN_INST\")"
   ]
  },
  {
   "cell_type": "code",
   "execution_count": null,
   "metadata": {},
   "outputs": [],
   "source": [
    "print(DF_FTST2_REP_WFLOW_RUN_INST.columns)\n",
    "print(DF_PROD_REP_WFLOW_RUN_INST.columns)"
   ]
  },
  {
   "cell_type": "code",
   "execution_count": null,
   "metadata": {},
   "outputs": [],
   "source": [
    "t.spark.sql(\"\"\"\n",
    "with src as (select * ,  substring(workflow_name,1,length(workflow_name)-instr(reverse(workflow_name),'_')) workflow_name_short from DF_FTST2_REP_WFLOW_RUN_INST ) \n",
    "SELECT  workflow_name_short, CAST(START_TIME AS DATE) start_day, min(START_TIME) min_start_time, max(START_TIME) max_start_time, concat_ws(',', collect_list(OPC_JOBNAME)) OPC_JOBNAME_LIST  FROM src\n",
    "GROUP BY workflow_name_short, CAST(START_TIME AS DATE)\n",
    "order by workflow_name_short,start_day desc\n",
    "\"\"\")"
   ]
  },
  {
   "cell_type": "code",
   "execution_count": null,
   "metadata": {},
   "outputs": [],
   "source": [
    "t.spark.sql(\"\"\"\n",
    "with src as (select * ,  substring(workflow_name,1,length(workflow_name)-instr(reverse(workflow_name),'_')) workflow_name_short from DF_PROD_REP_WFLOW_RUN_INST \n",
    "where CAST(START_TIME AS DATE) > '2020-01-04'\n",
    ") \n",
    "SELECT  workflow_name_short, CAST(START_TIME AS DATE) start_day, min(START_TIME) min_start_time, max(START_TIME) max_start_time, concat_ws(',', collect_list(OPC_JOBNAME)) OPC_JOBNAME_LIST  FROM src\n",
    "GROUP BY workflow_name_short, CAST(START_TIME AS DATE)\n",
    "order by workflow_name_short,start_day desc\n",
    "\"\"\")"
   ]
  },
  {
   "cell_type": "code",
   "execution_count": null,
   "metadata": {},
   "outputs": [],
   "source": [
    "# get recon errors\n",
    "import pyetltools as t\n",
    "ftst2_context=t.context.DB_NZFTST2\n",
    "print(ftst2_context.sql.recon.aggregates_mdw_errors(\"%FACILITET_ULTIMO%\",\"20200113\"))"
   ]
  },
  {
   "cell_type": "code",
   "execution_count": null,
   "metadata": {},
   "outputs": [],
   "source": [
    "recon_errors=ftst2_context.get_spark_dataframe(ftst2_context.sql.recon.aggregates_mdw_errors(\"%FACILITET_ULTIMO%\",\"20200113\"))\n",
    "\n",
    "t.spark_helper.df_to_excel(recon_errors,r\"c:\\out\\recon_errors.xls\")\n",
    "recon_errors.count()"
   ]
  },
  {
   "cell_type": "code",
   "execution_count": null,
   "metadata": {},
   "outputs": [],
   "source": [
    "recon_errors=ftst2_context.get_spark_dataframe(ftst2_context.sql.recon.aggregates_mdw(\"%FACILITET_ULTIMO%\",\"20200113\"))\n",
    "\n",
    "t.spark_helper.df_to_excel(recon_errors,r\"c:\\out\\recon_all.xls\")\n",
    "recon_errors.count()"
   ]
  },
  {
   "cell_type": "code",
   "execution_count": null,
   "metadata": {},
   "outputs": [],
   "source": [
    "ftst2_context.get_spark_dataframe(ftst2_context.sqls.recon_find_errors(\"%FACILITET_ULTIMO%\",\"20200109\"))"
   ]
  },
  {
   "cell_type": "code",
   "execution_count": null,
   "metadata": {},
   "outputs": [],
   "source": [
    "\n",
    "\n",
    "sql_prod=t.context.DB_SQLPROD_MDW.get_spark_dataframe(\"select *  from D00032PD00_MDW_PROD.dbo.TMDW_FACILITET_GODK_SEGMENT_SCD\");\n",
    "sql_prod.persist();"
   ]
  },
  {
   "cell_type": "code",
   "execution_count": null,
   "metadata": {},
   "outputs": [],
   "source": [
    "sql_prod.where(\" ret_wf_run_i >= -99999999  and BANK_I in (-1,10034) AND BANK_I <> 10053\").count()"
   ]
  },
  {
   "cell_type": "code",
   "execution_count": null,
   "metadata": {},
   "outputs": [],
   "source": [
    "nz_prod=t.context.DB_NZFTST2.get_spark_dataframe(\"select * from FTST2_MDW.RAP.KMDW_FACILITET_GODK_SEGMENT_SCD where bank_i=10034\");\n",
    "nz_prod.persist();"
   ]
  },
  {
   "cell_type": "code",
   "execution_count": null,
   "metadata": {},
   "outputs": [],
   "source": [
    "sql_prod.where(\"FACilitet_i=34133714\")"
   ]
  },
  {
   "cell_type": "code",
   "execution_count": null,
   "metadata": {},
   "outputs": [],
   "source": [
    "rest=compare_dataframes(nz_prod, sql_prod, ['FACILITET_I','START_PER_I'], mode=2)"
   ]
  },
  {
   "cell_type": "code",
   "execution_count": null,
   "metadata": {},
   "outputs": [],
   "source": [
    "rest.where(\"both <> 1\")"
   ]
  },
  {
   "cell_type": "code",
   "execution_count": null,
   "metadata": {},
   "outputs": [],
   "source": [
    "sql_prod.write.save(\"c:\\\\out\\\\sql_prod.parquet\")"
   ]
  },
  {
   "cell_type": "code",
   "execution_count": null,
   "metadata": {},
   "outputs": [],
   "source": [
    "nz_prod.write.save(\"c:\\\\out\\\\nz_prod.parquet\")"
   ]
  },
  {
   "cell_type": "code",
   "execution_count": null,
   "metadata": {},
   "outputs": [],
   "source": [
    "t.context.DB_NZFTST2.exec_temp_access(\"UG_FTST_ALL_R\",\"Recon\")"
   ]
  },
  {
   "cell_type": "code",
   "execution_count": null,
   "metadata": {},
   "outputs": [],
   "source": [
    "\n",
    "\n",
    "\n",
    "\n"
   ]
  },
  {
   "cell_type": "code",
   "execution_count": null,
   "metadata": {},
   "outputs": [],
   "source": []
  },
  {
   "cell_type": "code",
   "execution_count": null,
   "metadata": {},
   "outputs": [],
   "source": [
    "t.context.DB_NZFTST2.get_databases()"
   ]
  },
  {
   "cell_type": "code",
   "execution_count": null,
   "metadata": {},
   "outputs": [],
   "source": [
    "wf_relations=t.context.DB_NZFTST2.get_spark_dataframe(\"select folder ||'.'|| object_name object_id, opc_jobname, folder,  object_name, mapping_name, db_type||'.'||table_name table_id, table_name, table_type, db_layer, db_type, overwrite  from mmdb.admin.wf_relations\")\n",
    "\n"
   ]
  },
  {
   "cell_type": "code",
   "execution_count": null,
   "metadata": {},
   "outputs": [],
   "source": [
    "t.spark_helper.df_to_csv(wf_relations, \"c:\\\\out\\\\wf_relations.csv\")"
   ]
  },
  {
   "cell_type": "code",
   "execution_count": null,
   "metadata": {},
   "outputs": [],
   "source": [
    "c.NotebookApp.extra_static_paths"
   ]
  },
  {
   "cell_type": "code",
   "execution_count": null,
   "metadata": {},
   "outputs": [],
   "source": []
  }
 ],
 "metadata": {
  "kernelspec": {
   "display_name": "Python 3",
   "language": "python",
   "name": "python3"
  },
  "language_info": {
   "codemirror_mode": {
    "name": "ipython",
    "version": 3
   },
   "file_extension": ".py",
   "mimetype": "text/x-python",
   "name": "python",
   "nbconvert_exporter": "python",
   "pygments_lexer": "ipython3",
   "version": "3.7.4"
  }
 },
 "nbformat": 4,
 "nbformat_minor": 4
}
