{
 "cells": [
  {
   "cell_type": "code",
   "execution_count": null,
   "metadata": {},
   "outputs": [],
   "source": [
    "\n",
    "import pyetltools as t"
   ]
  },
  {
   "cell_type": "code",
   "execution_count": null,
   "metadata": {},
   "outputs": [],
   "source": [
    "t.context.JENKINS.bec_start_push_recon(\"20200109\")"
   ]
  },
  {
   "cell_type": "code",
   "execution_count": null,
   "metadata": {},
   "outputs": [],
   "source": [
    "s1=t.context.JIRA_TEST.get_issue(\"BIFU-15912\").get_sub_issues()[0]\n"
   ]
  },
  {
   "cell_type": "code",
   "execution_count": null,
   "metadata": {},
   "outputs": [],
   "source": [
    "s1.content"
   ]
  },
  {
   "cell_type": "code",
   "execution_count": null,
   "metadata": {},
   "outputs": [],
   "source": [
    "s1.set_summary(s1.get_summary()+\"_XXX\")"
   ]
  },
  {
   "cell_type": "code",
   "execution_count": null,
   "metadata": {},
   "outputs": [],
   "source": [
    "s1.content"
   ]
  },
  {
   "cell_type": "code",
   "execution_count": null,
   "metadata": {},
   "outputs": [],
   "source": [
    "res=t.context.JIRA_TEST.update_task(s1)"
   ]
  },
  {
   "cell_type": "code",
   "execution_count": null,
   "metadata": {},
   "outputs": [],
   "source": [
    "res.content"
   ]
  },
  {
   "cell_type": "code",
   "execution_count": null,
   "metadata": {},
   "outputs": [],
   "source": []
  },
  {
   "cell_type": "code",
   "execution_count": null,
   "metadata": {},
   "outputs": [],
   "source": [
    "\n",
    "t.context.DB_SQLPROD_MDW.get_objects()"
   ]
  },
  {
   "cell_type": "code",
   "execution_count": null,
   "metadata": {},
   "outputs": [],
   "source": [
    "dblist_orig=set(filter(lambda db: 'MDW' in db,t.context.DB_SQLPROD_MDW.get_databases()[\"name\"].tolist()))"
   ]
  },
  {
   "cell_type": "code",
   "execution_count": null,
   "metadata": {},
   "outputs": [],
   "source": [
    "def check_tablename_exists_in_db(db, tablename):\n",
    "    t.context.DB_SQLPROD_MDW.connection.config.data_source=db\n",
    "    ret=t.context.DB_SQLPROD_MDW.get_objects()\n",
    "    return len(ret[ret['TABLE_NAME']=='TMDW_FACILITET_GODK_SEGMENT_SCD']) >0\n",
    "\n",
    "\n",
    "dblist=[db for db in dblist_orig if check_tablename_exists_in_db(db,'TMDW_FACILITET_GODK_SEGMENT_SCD' )]"
   ]
  },
  {
   "cell_type": "code",
   "execution_count": null,
   "metadata": {},
   "outputs": [],
   "source": [
    "dblist"
   ]
  },
  {
   "cell_type": "code",
   "execution_count": null,
   "metadata": {},
   "outputs": [],
   "source": [
    "dblist_orig"
   ]
  },
  {
   "cell_type": "code",
   "execution_count": null,
   "metadata": {},
   "outputs": [],
   "source": [
    "print(\" union all\\n\".join([f\"select '{db}' db,* from {db}.[dbo].[TMDW_FACILITET_GODK_SEGMENT_SCD] where fac_godk_segment_scd_i = -1\" for db in dblist]))"
   ]
  },
  {
   "cell_type": "code",
   "execution_count": null,
   "metadata": {},
   "outputs": [],
   "source": [
    "display(\"<script>alert('d')</script>\")"
   ]
  },
  {
   "cell_type": "code",
   "execution_count": null,
   "metadata": {},
   "outputs": [],
   "source": [
    "%%javascript\n",
    "\n",
    "\n",
    "neo4jupyter.init_notebook_mode()"
   ]
  },
  {
   "cell_type": "code",
   "execution_count": null,
   "metadata": {},
   "outputs": [],
   "source": [
    "\n",
    "from IPython.display import HTML, Javascript, display\n",
    "\n",
    "HTML(\"\"\"\n",
    "<link rel=\"stylesheet\" type=\"text/css\" href=\"https://cdnjs.cloudflare.com/ajax/libs/vis/4.8.2/vis.css\">\n",
    "\n",
    "<script src=\"https://cdnjs.cloudflare.com/ajax/libs/vis/4.8.2/vis.min.js\">\n",
    "\n",
    "\"\"\")\n"
   ]
  },
  {
   "cell_type": "code",
   "execution_count": 2,
   "metadata": {},
   "outputs": [],
   "source": [
    "import pyetltools as t\n",
    "graph=t.context.NEO4J.get_graph();\n",
    "graph.delete_all()\n",
    "\n",
    "\n",
    "from py2neo import Node\n",
    "nicole = Node(\"Person\", name=\"Nicole\", age=24)\n",
    "drew = Node(\"Person\", name=\"Drew\", age=20)\n",
    "\n",
    "mtdew = Node(\"Drink\", name=\"Mountain Dew\", calories=9000)\n",
    "cokezero = Node(\"Drink\", name=\"Coke Zero\", calories=0)\n",
    "\n",
    "coke = Node(\"Manufacturer\", name=\"Coca Cola\")\n",
    "\n",
    "pepsi = Node(\"Manufacturer\", name=\"Pepsi\")\n",
    "\n",
    "graph.create(nicole | drew | mtdew | cokezero | coke | pepsi)\n",
    "\n",
    "from py2neo import Relationship\n",
    "\n",
    "graph.create(Relationship(nicole, \"LIKES\", cokezero))\n",
    "graph.create(Relationship(nicole, \"LIKES\", mtdew))\n",
    "graph.create(Relationship(drew, \"LIKES\", mtdew))\n",
    "graph.create(Relationship(coke, \"MAKES\", cokezero))\n",
    "graph.create(Relationship(pepsi, \"MAKES\", mtdew))\n",
    "\n",
    "\n",
    "\n"
   ]
  },
  {
   "cell_type": "code",
   "execution_count": null,
   "metadata": {},
   "outputs": [],
   "source": [
    "from pyetltools.neo4j.scripts  import neo4jupyter\n",
    "options = {\"Person\": \"name\", \"Drink\": \"name\", \"Manufacturer\": \"name\"}\n",
    "neo4jupyter.draw(graph, options)"
   ]
  },
  {
   "cell_type": "code",
   "execution_count": 3,
   "metadata": {},
   "outputs": [
    {
     "data": {
      "text/html": [
       "<div>\n",
       "<style scoped>\n",
       "    .dataframe tbody tr th:only-of-type {\n",
       "        vertical-align: middle;\n",
       "    }\n",
       "\n",
       "    .dataframe tbody tr th {\n",
       "        vertical-align: top;\n",
       "    }\n",
       "\n",
       "    .dataframe thead th {\n",
       "        text-align: right;\n",
       "    }\n",
       "</style>\n",
       "<table border=\"1\" class=\"dataframe\">\n",
       "  <thead>\n",
       "    <tr style=\"text-align: right;\">\n",
       "      <th></th>\n",
       "      <th>0</th>\n",
       "      <th>1</th>\n",
       "      <th>2</th>\n",
       "    </tr>\n",
       "  </thead>\n",
       "  <tbody>\n",
       "    <tr>\n",
       "      <td>0</td>\n",
       "      <td>Nicole</td>\n",
       "      <td>Mountain Dew</td>\n",
       "      <td>9000</td>\n",
       "    </tr>\n",
       "    <tr>\n",
       "      <td>1</td>\n",
       "      <td>Nicole</td>\n",
       "      <td>Coke Zero</td>\n",
       "      <td>0</td>\n",
       "    </tr>\n",
       "    <tr>\n",
       "      <td>2</td>\n",
       "      <td>Drew</td>\n",
       "      <td>Mountain Dew</td>\n",
       "      <td>9000</td>\n",
       "    </tr>\n",
       "  </tbody>\n",
       "</table>\n",
       "</div>"
      ],
      "text/plain": [
       "        0             1     2\n",
       "0  Nicole  Mountain Dew  9000\n",
       "1  Nicole     Coke Zero     0\n",
       "2    Drew  Mountain Dew  9000"
      ]
     },
     "execution_count": 3,
     "metadata": {},
     "output_type": "execute_result"
    }
   ],
   "source": [
    "t.context.NEO4J.run_query_as_pandas_df(\"\"\"MATCH (person:Person)-[:LIKES]->(drink:Drink)\n",
    "                                         RETURN person.name, drink.name, drink.calories\"\"\")"
   ]
  },
  {
   "cell_type": "code",
   "execution_count": null,
   "metadata": {},
   "outputs": [],
   "source": [
    "\n"
   ]
  },
  {
   "cell_type": "code",
   "execution_count": null,
   "metadata": {},
   "outputs": [],
   "source": [
    "from IPython.display import HTML, Javascript, display\n",
    "HTML('<script src=\"https://cdnjs.cloudflare.com/ajax/libs/vis/4.8.2/vis.min.js\">')\n",
    "\n",
    "HTML('<link rel=\"stylesheet\" type=\"text/css\" href=\"https://cdnjs.cloudflare.com/ajax/libs/vis/4.8.2/vis.css\">')"
   ]
  },
  {
   "cell_type": "code",
   "execution_count": null,
   "metadata": {},
   "outputs": [],
   "source": [
    "Javascript(data='https://cdnjs.cloudflare.com/ajax/libs/vis/4.8.2/vis.min.js',  css='https://cdnjs.cloudflare.com/ajax/libs/vis/4.8.2/vis.css')\n",
    "Javascript(data=\"window.vis = vis \",\n",
    "                   css='https://cdnjs.cloudflare.com/ajax/libs/vis/4.8.2/vis.css')"
   ]
  },
  {
   "cell_type": "code",
   "execution_count": null,
   "metadata": {},
   "outputs": [],
   "source": []
  },
  {
   "cell_type": "code",
   "execution_count": null,
   "metadata": {},
   "outputs": [],
   "source": []
  },
  {
   "cell_type": "code",
   "execution_count": null,
   "metadata": {},
   "outputs": [],
   "source": []
  }
 ],
 "metadata": {
  "kernelspec": {
   "display_name": "Python 3",
   "language": "python",
   "name": "python3"
  },
  "language_info": {
   "codemirror_mode": {
    "name": "ipython",
    "version": 3
   },
   "file_extension": ".py",
   "mimetype": "text/x-python",
   "name": "python",
   "nbconvert_exporter": "python",
   "pygments_lexer": "ipython3",
   "version": "3.7.4"
  }
 },
 "nbformat": 4,
 "nbformat_minor": 4
}
